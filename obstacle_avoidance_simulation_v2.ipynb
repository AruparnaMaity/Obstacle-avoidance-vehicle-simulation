{
 "cells": [
  {
   "cell_type": "code",
   "execution_count": 1,
   "metadata": {},
   "outputs": [],
   "source": [
    "import matplotlib \n",
    "import matplotlib.pyplot as plt\n",
    "from IPython.display import clear_output\n",
    "import numpy as np"
   ]
  },
  {
   "cell_type": "code",
   "execution_count": 8,
   "metadata": {},
   "outputs": [],
   "source": [
    "VEHICLE_X = 20\n",
    "VEHICLE_Y = 50\n",
    "VEHICLE_WIDTH = 20 #Fixed\n",
    "VEHICLE_LENGTH = 30 #Fixed\n",
    "\n",
    "OBSTACLE_X = 0\n",
    "OBSTACLE_Y = 150\n",
    "OBSTACLE_WIDTH = 20\n",
    "OBSTACLE_LENGTH = 50\n",
    "\n",
    "OBSTACLE_MOVING_X = 40\n",
    "OBSTACLE_MOVING_Y = 250\n",
    "OBSTACLE_MOVING_WIDTH = 30\n",
    "OBSTACLE_MOVING_LENGTH = 50\n",
    "\n",
    "VEHICLE_SPEED_X = 0\n",
    "VEHICLE_SPEED_Y = 5\n",
    "\n",
    "X_MIN = 0\n",
    "X_MAX = 100\n",
    "Y_MIN = 0\n",
    "Y_MAX = 400"
   ]
  },
  {
   "cell_type": "code",
   "execution_count": 9,
   "metadata": {},
   "outputs": [],
   "source": [
    "def road_item(name, item_x, item_y, item_width, item_length, item_color):\n",
    "    plot_obj = matplotlib.patches.Rectangle((item_x, item_y), item_width, item_length, color = item_color)\n",
    "    item_coords = \\\n",
    "    {name : {\n",
    "            \"blx\": item_x,\n",
    "            \"bly\": item_y,\n",
    "            \"brx\": item_x + item_width,\n",
    "            \"bry\": item_y,\n",
    "            \"tlx\": item_x,\n",
    "            \"tly\": item_y + item_length,\n",
    "            \"trx\": item_x + item_width,\n",
    "            \"try\": item_y + item_length\n",
    "            }}\n",
    "    return plot_obj, item_coords\n"
   ]
  },
  {
   "cell_type": "code",
   "execution_count": 10,
   "metadata": {},
   "outputs": [],
   "source": [
    "vehicle, vehicle_coords = road_item(\"vehicle\", VEHICLE_X, VEHICLE_Y, VEHICLE_WIDTH, VEHICLE_LENGTH, 'green')\n",
    "obstacle_left1, obstacle_left1_coords = road_item(\"obstacle_left1\", 0, 150, 50, OBSTACLE_WIDTH, 'black')\n",
    "obstacle_right1, obstacle_right1_coords = road_item(\"obstacle_right1\", (100-20), 200, 20, OBSTACLE_WIDTH, 'black')\n",
    "obstacle_moving1, obstacle_moving1_coords = road_item(\"obstacle_moving1\", OBSTACLE_MOVING_X, OBSTACLE_MOVING_Y, OBSTACLE_MOVING_WIDTH, OBSTACLE_MOVING_LENGTH, 'red')\n"
   ]
  },
  {
   "cell_type": "code",
   "execution_count": 11,
   "metadata": {},
   "outputs": [
    {
     "data": {
      "text/plain": [
       "{'obstacle_right1': {'blx': 80,\n",
       "  'bly': 200,\n",
       "  'brx': 100,\n",
       "  'bry': 200,\n",
       "  'tlx': 80,\n",
       "  'tly': 220,\n",
       "  'trx': 100,\n",
       "  'try': 220},\n",
       " 'obstacle_left1': {'blx': 0,\n",
       "  'bly': 150,\n",
       "  'brx': 50,\n",
       "  'bry': 150,\n",
       "  'tlx': 0,\n",
       "  'tly': 170,\n",
       "  'trx': 50,\n",
       "  'try': 170},\n",
       " 'obstacle_moving1': {'blx': 40,\n",
       "  'bly': 250,\n",
       "  'brx': 70,\n",
       "  'bry': 250,\n",
       "  'tlx': 40,\n",
       "  'tly': 300,\n",
       "  'trx': 70,\n",
       "  'try': 300}}"
      ]
     },
     "execution_count": 11,
     "metadata": {},
     "output_type": "execute_result"
    }
   ],
   "source": [
    "obstacle_coords_list = {**obstacle_right1_coords, **obstacle_left1_coords, **obstacle_moving1_coords}\n",
    "obstacle_coords_list"
   ]
  },
  {
   "cell_type": "code",
   "execution_count": 12,
   "metadata": {},
   "outputs": [
    {
     "data": {
      "text/plain": [
       "('obstacle_left1', 150)"
      ]
     },
     "execution_count": 12,
     "metadata": {},
     "output_type": "execute_result"
    }
   ],
   "source": [
    "first_obstacle = list(obstacle_coords_list.keys())[0]\n",
    "v_bly = obstacle_coords_list[first_obstacle][\"bly\"]\n",
    "\n",
    "for k, v in obstacle_coords_list.items():\n",
    "    if v_bly >= v[\"bly\"]:\n",
    "        first_obstacle = k\n",
    "        v_bly = v[\"bly\"]\n",
    "\n",
    "first_obstacle, v_bly"
   ]
  },
  {
   "cell_type": "code",
   "execution_count": 13,
   "metadata": {},
   "outputs": [
    {
     "ename": "IndexError",
     "evalue": "list index out of range",
     "output_type": "error",
     "traceback": [
      "\u001b[1;31m---------------------------------------------------------------------------\u001b[0m",
      "\u001b[1;31mIndexError\u001b[0m                                Traceback (most recent call last)",
      "Cell \u001b[1;32mIn[13], line 17\u001b[0m\n\u001b[0;32m     12\u001b[0m \u001b[38;5;28;01mif\u001b[39;00m obstacle_coords_list[first_obstacle][\u001b[38;5;124m\"\u001b[39m\u001b[38;5;124mtry\u001b[39m\u001b[38;5;124m\"\u001b[39m] \u001b[38;5;241m<\u001b[39m vehicle_coords[\u001b[38;5;124m\"\u001b[39m\u001b[38;5;124mvehicle\u001b[39m\u001b[38;5;124m\"\u001b[39m][\u001b[38;5;124m\"\u001b[39m\u001b[38;5;124mtly\u001b[39m\u001b[38;5;124m\"\u001b[39m]:\n\u001b[0;32m     13\u001b[0m \n\u001b[0;32m     14\u001b[0m     \u001b[38;5;66;03m# Calculate next obstacle\u001b[39;00m\n\u001b[0;32m     15\u001b[0m     \u001b[38;5;28;01mdel\u001b[39;00m obstacle_coords_list[first_obstacle]\n\u001b[1;32m---> 17\u001b[0m     first_obstacle \u001b[38;5;241m=\u001b[39m \u001b[38;5;28;43mlist\u001b[39;49m\u001b[43m(\u001b[49m\u001b[43mobstacle_coords_list\u001b[49m\u001b[38;5;241;43m.\u001b[39;49m\u001b[43mkeys\u001b[49m\u001b[43m(\u001b[49m\u001b[43m)\u001b[49m\u001b[43m)\u001b[49m\u001b[43m[\u001b[49m\u001b[38;5;241;43m0\u001b[39;49m\u001b[43m]\u001b[49m\n\u001b[0;32m     18\u001b[0m     v_bly \u001b[38;5;241m=\u001b[39m obstacle_coords_list[first_obstacle][\u001b[38;5;124m\"\u001b[39m\u001b[38;5;124mbly\u001b[39m\u001b[38;5;124m\"\u001b[39m]\n\u001b[0;32m     20\u001b[0m     \u001b[38;5;28;01mfor\u001b[39;00m k, v \u001b[38;5;129;01min\u001b[39;00m obstacle_coords_list\u001b[38;5;241m.\u001b[39mitems():\n",
      "\u001b[1;31mIndexError\u001b[0m: list index out of range"
     ]
    }
   ],
   "source": [
    "# Move to hitting the back of next obstacle\n",
    "# while obstacle_coords_list[first_obstacle][\"bry\"] > vehicle_coords[\"vehicle\"][\"tly\"]:\n",
    "while len(obstacle_coords_list) != 0:\n",
    "\n",
    "    # Horizontal Pass check\n",
    "    if (obstacle_coords_list[first_obstacle][\"brx\"] < vehicle_coords[\"vehicle\"][\"tlx\"]) or (obstacle_coords_list[first_obstacle][\"blx\"] > vehicle_coords[\"vehicle\"][\"trx\"]):\n",
    "\n",
    "        # Reset horizontal movement to zero\n",
    "        VEHICLE_SPEED_X = 0\n",
    "\n",
    "        # Vertical Pass check\n",
    "        if obstacle_coords_list[first_obstacle][\"try\"] < vehicle_coords[\"vehicle\"][\"tly\"]:\n",
    "\n",
    "            # Calculate next obstacle\n",
    "            del obstacle_coords_list[first_obstacle]\n",
    "\n",
    "            first_obstacle = list(obstacle_coords_list.keys())[0]\n",
    "            v_bly = obstacle_coords_list[first_obstacle][\"bly\"]\n",
    "\n",
    "            for k, v in obstacle_coords_list.items():\n",
    "                if v_bly >= v[\"bly\"]:\n",
    "                    first_obstacle = k\n",
    "                    v_bly = v[\"bly\"]\n",
    "\n",
    "    # If horizontal pass does not check and vehicle need to steer towards right or left\n",
    "    elif VEHICLE_SPEED_X == 0:\n",
    "\n",
    "        # Decide which direction to steer - left or right\n",
    "        dist_tosteer_right = obstacle_coords_list[first_obstacle][\"brx\"] - vehicle_coords[\"vehicle\"][\"tlx\"]\n",
    "        dist_tosteer_left = obstacle_coords_list[first_obstacle][\"blx\"] - vehicle_coords[\"vehicle\"][\"trx\"]\n",
    "        dist_gap_left = obstacle_coords_list[first_obstacle][\"blx\"] - X_MIN\n",
    "        dist_gap_right = X_MAX - obstacle_coords_list[first_obstacle][\"brx\"]\n",
    "\n",
    "        # VEHICLE_SPEED_X = min(dist_tosteer_right, dist_tosteer_left) / ((obstacle_coords_list[first_obstacle][\"bry\"] - vehicle_coords[\"vehicle\"][\"tly\"]) / VEHICLE_SPEED_Y)\n",
    "        if dist_gap_left > dist_gap_right:\n",
    "            VEHICLE_SPEED_X = dist_tosteer_left / ((obstacle_coords_list[first_obstacle][\"bry\"] - vehicle_coords[\"vehicle\"][\"tly\"]) / VEHICLE_SPEED_Y)\n",
    "        else:\n",
    "            VEHICLE_SPEED_X = dist_tosteer_right / ((obstacle_coords_list[first_obstacle][\"bry\"] - vehicle_coords[\"vehicle\"][\"tly\"]) / VEHICLE_SPEED_Y)\n",
    "        if VEHICLE_SPEED_X > 0:\n",
    "            VEHICLE_SPEED_X = np.ceil(VEHICLE_SPEED_X)\n",
    "        else:\n",
    "            VEHICLE_SPEED_X = np.floor(VEHICLE_SPEED_X)\n",
    "\n",
    "    fig = plt.figure(figsize = (2, 8))\n",
    "    ax = fig.add_subplot(111)\n",
    "\n",
    "    VEHICLE_X = VEHICLE_X + VEHICLE_SPEED_X\n",
    "    VEHICLE_Y = VEHICLE_Y + VEHICLE_SPEED_Y\n",
    "\n",
    "    vehicle, vehicle_coords = road_item(\"vehicle\", VEHICLE_X, VEHICLE_Y, VEHICLE_WIDTH, VEHICLE_LENGTH, 'green')\n",
    "    obstacle_left1, obstacle_left1_coords = road_item(\"obstacle_left1\", 0, 150, 50, OBSTACLE_WIDTH, 'black')\n",
    "    obstacle_right1, obstacle_right1_coords = road_item(\"obstacle_right1\", (100-20), 200, 20, OBSTACLE_WIDTH, 'black')\n",
    "    obstacle_moving1, obstacle_moving1_coords = road_item(\"obstacle_moving1\", OBSTACLE_MOVING_X, OBSTACLE_MOVING_Y, OBSTACLE_MOVING_WIDTH, OBSTACLE_MOVING_LENGTH, 'red')\n",
    "\n",
    "    ax.add_patch(vehicle) \n",
    "    ax.add_patch(obstacle_left1) \n",
    "    ax.add_patch(obstacle_right1)\n",
    "    ax.add_patch(obstacle_moving1)\n",
    "\n",
    "    plt.xlim([X_MIN, X_MAX]) \n",
    "    plt.ylim([Y_MIN, Y_MAX])\n",
    "\n",
    "    plt.show()\n",
    "    plt.pause(0.1)\n",
    "    clear_output(wait=True)\n"
   ]
  },
  {
   "cell_type": "code",
   "execution_count": 79,
   "metadata": {},
   "outputs": [
    {
     "ename": "KeyError",
     "evalue": "'obstacle_moving1'",
     "output_type": "error",
     "traceback": [
      "\u001b[1;31m---------------------------------------------------------------------------\u001b[0m",
      "\u001b[1;31mKeyError\u001b[0m                                  Traceback (most recent call last)",
      "Cell \u001b[1;32mIn[79], line 1\u001b[0m\n\u001b[1;32m----> 1\u001b[0m \u001b[43mobstacle_coords_list\u001b[49m\u001b[43m[\u001b[49m\u001b[43mfirst_obstacle\u001b[49m\u001b[43m]\u001b[49m[\u001b[38;5;124m\"\u001b[39m\u001b[38;5;124mblx\u001b[39m\u001b[38;5;124m\"\u001b[39m]\n",
      "\u001b[1;31mKeyError\u001b[0m: 'obstacle_moving1'"
     ]
    }
   ],
   "source": [
    "obstacle_coords_list[first_obstacle][\"blx\"]"
   ]
  }
 ],
 "metadata": {
  "kernelspec": {
   "display_name": "Python 3",
   "language": "python",
   "name": "python3"
  },
  "language_info": {
   "codemirror_mode": {
    "name": "ipython",
    "version": 3
   },
   "file_extension": ".py",
   "mimetype": "text/x-python",
   "name": "python",
   "nbconvert_exporter": "python",
   "pygments_lexer": "ipython3",
   "version": "3.12.4"
  }
 },
 "nbformat": 4,
 "nbformat_minor": 2
}
