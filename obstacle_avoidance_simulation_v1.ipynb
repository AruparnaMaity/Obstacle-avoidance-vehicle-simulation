{
 "cells": [
  {
   "cell_type": "code",
   "execution_count": 152,
   "metadata": {},
   "outputs": [],
   "source": [
    "import matplotlib \n",
    "import matplotlib.pyplot as plt\n",
    "from IPython.display import clear_output\n",
    "import numpy as np"
   ]
  },
  {
   "cell_type": "code",
   "execution_count": 263,
   "metadata": {},
   "outputs": [],
   "source": [
    "VEHICLE_X = 20\n",
    "VEHICLE_Y = 50\n",
    "VEHICLE_WIDTH = 20 #Fixed\n",
    "VEHICLE_LENGTH = 30 #Fixed\n",
    "\n",
    "# OBSTACLE_LEFT_LENGTH = \n",
    "# OBSTACLE_LEFT_WIDTH = 20\n",
    "# OBSTACLE_RIGHT_LENGTH = \n",
    "# OBSTACLE_RIGHT_WIDTH = 20\n",
    "\n",
    "OBSTACLE_X = 0\n",
    "OBSTACLE_Y = 150\n",
    "OBSTACLE_WIDTH = 20\n",
    "OBSTACLE_LENGTH = 50\n",
    "\n",
    "OBSTACLE_MOVING_X = 40\n",
    "OBSTACLE_MOVING_Y = 250\n",
    "OBSTACLE_MOVING_WIDTH = 30\n",
    "OBSTACLE_MOVING_LENGTH = 50\n",
    "\n",
    "VEHICLE_SPEED_X = 0\n",
    "VEHICLE_SPEED_Y = 10"
   ]
  },
  {
   "cell_type": "code",
   "execution_count": 66,
   "metadata": {},
   "outputs": [],
   "source": [
    "def road_item(name, item_x, item_y, item_width, item_length, item_color):\n",
    "    plot_obj = matplotlib.patches.Rectangle((item_x, item_y), item_width, item_length, color = item_color)\n",
    "    item_coords = \\\n",
    "    {name : {\n",
    "            \"blx\": item_x,\n",
    "            \"bly\": item_y,\n",
    "            \"brx\": item_x + item_width,\n",
    "            \"bry\": item_y,\n",
    "            \"tlx\": item_x,\n",
    "            \"tly\": item_y + item_length,\n",
    "            \"trx\": item_x + item_width,\n",
    "            \"try\": item_y + item_length\n",
    "            }}\n",
    "    return plot_obj, item_coords\n"
   ]
  },
  {
   "cell_type": "code",
   "execution_count": null,
   "metadata": {},
   "outputs": [],
   "source": [
    "# list_obstacle_right = []\n",
    "# list_obstacle_left = []\n",
    "# list_obstacle_bottom = [150, 200]\n",
    "# list_obstacle_top = []"
   ]
  },
  {
   "cell_type": "code",
   "execution_count": 264,
   "metadata": {},
   "outputs": [],
   "source": [
    "vehicle, vehicle_coords = road_item(\"vehicle\", VEHICLE_X, VEHICLE_Y, VEHICLE_WIDTH, VEHICLE_LENGTH, 'green')\n",
    "obstacle_left1, obstacle_left1_coords = road_item(\"obstacle_left1\", 0, 150, 50, OBSTACLE_WIDTH, 'black')\n",
    "obstacle_right1, obstacle_right1_coords = road_item(\"obstacle_right1\", (100-20), 200, 20, OBSTACLE_WIDTH, 'black')\n",
    "obstacle_moving1, obstacle_moving1_coords = road_item(\"obstacle_moving1\", OBSTACLE_MOVING_X, OBSTACLE_MOVING_Y, OBSTACLE_MOVING_WIDTH, OBSTACLE_MOVING_LENGTH, 'red')\n"
   ]
  },
  {
   "cell_type": "code",
   "execution_count": 265,
   "metadata": {},
   "outputs": [
    {
     "data": {
      "text/plain": [
       "{'obstacle_right1': {'blx': 80,\n",
       "  'bly': 200,\n",
       "  'brx': 100,\n",
       "  'bry': 200,\n",
       "  'tlx': 80,\n",
       "  'tly': 220,\n",
       "  'trx': 100,\n",
       "  'try': 220},\n",
       " 'obstacle_left1': {'blx': 0,\n",
       "  'bly': 150,\n",
       "  'brx': 50,\n",
       "  'bry': 150,\n",
       "  'tlx': 0,\n",
       "  'tly': 170,\n",
       "  'trx': 50,\n",
       "  'try': 170},\n",
       " 'obstacle_moving1': {'blx': 40,\n",
       "  'bly': 250,\n",
       "  'brx': 70,\n",
       "  'bry': 250,\n",
       "  'tlx': 40,\n",
       "  'tly': 300,\n",
       "  'trx': 70,\n",
       "  'try': 300}}"
      ]
     },
     "execution_count": 265,
     "metadata": {},
     "output_type": "execute_result"
    }
   ],
   "source": [
    "obstacle_coords_list = {**obstacle_right1_coords, **obstacle_left1_coords, **obstacle_moving1_coords}\n",
    "obstacle_coords_list"
   ]
  },
  {
   "cell_type": "code",
   "execution_count": 266,
   "metadata": {},
   "outputs": [
    {
     "data": {
      "text/plain": [
       "('obstacle_left1', 150)"
      ]
     },
     "execution_count": 266,
     "metadata": {},
     "output_type": "execute_result"
    }
   ],
   "source": [
    "first_obstacle = list(obstacle_coords_list.keys())[0]\n",
    "v_bly = obstacle_coords_list[first_obstacle][\"bly\"]\n",
    "\n",
    "for k, v in obstacle_coords_list.items():\n",
    "    if v_bly >= v[\"bly\"]:\n",
    "        first_obstacle = k\n",
    "        v_bly = v[\"bly\"]\n",
    "\n",
    "first_obstacle, v_bly"
   ]
  },
  {
   "cell_type": "code",
   "execution_count": 267,
   "metadata": {},
   "outputs": [
    {
     "data": {
      "text/plain": [
       "True"
      ]
     },
     "execution_count": 267,
     "metadata": {},
     "output_type": "execute_result"
    }
   ],
   "source": [
    "dist_tosteer_right = obstacle_coords_list[first_obstacle][\"brx\"] - vehicle_coords[\"vehicle\"][\"tlx\"]\n",
    "dist_tosteer_left = vehicle_coords[\"vehicle\"][\"trx\"] - obstacle_coords_list[first_obstacle][\"blx\"]\n",
    "\n",
    "dist_tosteer_right < dist_tosteer_left"
   ]
  },
  {
   "cell_type": "code",
   "execution_count": 268,
   "metadata": {},
   "outputs": [
    {
     "data": {
      "text/plain": [
       "5.0"
      ]
     },
     "execution_count": 268,
     "metadata": {},
     "output_type": "execute_result"
    }
   ],
   "source": [
    "VEHICLE_SPEED_X = dist_tosteer_right / ((obstacle_coords_list[first_obstacle][\"bry\"] - vehicle_coords[\"vehicle\"][\"tly\"]) / VEHICLE_SPEED_Y)\n",
    "VEHICLE_SPEED_X = np.ceil(VEHICLE_SPEED_X)\n",
    "VEHICLE_SPEED_X"
   ]
  },
  {
   "cell_type": "code",
   "execution_count": 269,
   "metadata": {},
   "outputs": [
    {
     "data": {
      "image/png": "[encoded data removed]",
      "text/plain": [
       "<Figure size 200x800 with 1 Axes>"
      ]
     },
     "metadata": {},
     "output_type": "display_data"
    }
   ],
   "source": [
    "\n",
    "# while VEHICLE_Y + VEHICLE_LENGTH < OBSTACLE_Y:\n",
    "while obstacle_coords_list[first_obstacle][\"bry\"] > vehicle_coords[\"vehicle\"][\"tly\"]:\n",
    "\n",
    "    fig = plt.figure(figsize = (2, 8))\n",
    "    ax = fig.add_subplot(111)\n",
    "\n",
    "    VEHICLE_X = VEHICLE_X + VEHICLE_SPEED_X\n",
    "    VEHICLE_Y = VEHICLE_Y + VEHICLE_SPEED_Y\n",
    "\n",
    "    vehicle, vehicle_coords = road_item(\"vehicle\", VEHICLE_X, VEHICLE_Y, VEHICLE_WIDTH, VEHICLE_LENGTH, 'green')\n",
    "    obstacle_left1, obstacle_left1_coords = road_item(\"obstacle_left1\", 0, 150, 50, OBSTACLE_WIDTH, 'black')\n",
    "    obstacle_right1, obstacle_right1_coords = road_item(\"obstacle_right1\", (100-20), 200, 20, OBSTACLE_WIDTH, 'black')\n",
    "    obstacle_moving1, obstacle_moving1_coords = road_item(\"obstacle_moving1\", OBSTACLE_MOVING_X, OBSTACLE_MOVING_Y, OBSTACLE_MOVING_WIDTH, OBSTACLE_MOVING_LENGTH, 'red')\n",
    "\n",
    "    ax.add_patch(vehicle) \n",
    "    ax.add_patch(obstacle_left1) \n",
    "    ax.add_patch(obstacle_right1)\n",
    "    ax.add_patch(obstacle_moving1)\n",
    "\n",
    "    plt.xlim([0, 100]) \n",
    "    plt.ylim([0, 400])\n",
    "\n",
    "    plt.show()\n",
    "    plt.pause(0.1)\n",
    "    clear_output(wait=True)\n",
    "\n"
   ]
  },
  {
   "cell_type": "code",
   "execution_count": 270,
   "metadata": {},
   "outputs": [
    {
     "ename": "IndexError",
     "evalue": "list index out of range",
     "output_type": "error",
     "traceback": [
      "\u001b[1;31m---------------------------------------------------------------------------\u001b[0m",
      "\u001b[1;31mIndexError\u001b[0m                                Traceback (most recent call last)",
      "Cell \u001b[1;32mIn[270], line 23\u001b[0m\n\u001b[0;32m     19\u001b[0m \u001b[38;5;28;01mif\u001b[39;00m (vehicle_coords[\u001b[38;5;124m\"\u001b[39m\u001b[38;5;124mvehicle\u001b[39m\u001b[38;5;124m\"\u001b[39m][\u001b[38;5;124m\"\u001b[39m\u001b[38;5;124mtly\u001b[39m\u001b[38;5;124m\"\u001b[39m] \u001b[38;5;241m>\u001b[39m obstacle_coords_list[first_obstacle][\u001b[38;5;124m\"\u001b[39m\u001b[38;5;124mbry\u001b[39m\u001b[38;5;124m\"\u001b[39m]):\n\u001b[0;32m     21\u001b[0m     \u001b[38;5;28;01mdel\u001b[39;00m obstacle_coords_list[first_obstacle]\n\u001b[1;32m---> 23\u001b[0m     first_obstacle \u001b[38;5;241m=\u001b[39m \u001b[38;5;28;43mlist\u001b[39;49m\u001b[43m(\u001b[49m\u001b[43mobstacle_coords_list\u001b[49m\u001b[38;5;241;43m.\u001b[39;49m\u001b[43mkeys\u001b[49m\u001b[43m(\u001b[49m\u001b[43m)\u001b[49m\u001b[43m)\u001b[49m\u001b[43m[\u001b[49m\u001b[38;5;241;43m0\u001b[39;49m\u001b[43m]\u001b[49m\n\u001b[0;32m     24\u001b[0m     v_bly \u001b[38;5;241m=\u001b[39m obstacle_coords_list[first_obstacle][\u001b[38;5;124m\"\u001b[39m\u001b[38;5;124mbly\u001b[39m\u001b[38;5;124m\"\u001b[39m]\n\u001b[0;32m     26\u001b[0m     \u001b[38;5;28;01mfor\u001b[39;00m k, v \u001b[38;5;129;01min\u001b[39;00m obstacle_coords_list\u001b[38;5;241m.\u001b[39mitems():\n",
      "\u001b[1;31mIndexError\u001b[0m: list index out of range"
     ]
    },
    {
     "data": {
      "image/png": "[encoded data removed]",
      "text/plain": [
       "<Figure size 200x800 with 1 Axes>"
      ]
     },
     "metadata": {},
     "output_type": "display_data"
    }
   ],
   "source": [
    "# Letting the vehicle pass\n",
    "VEHICLE_SPEED_X = 0\n",
    "obstacle_passed = False\n",
    "\n",
    "while obstacle_coords_list[first_obstacle][\"try\"] > vehicle_coords[\"vehicle\"][\"bly\"]:\n",
    "\n",
    "    fig = plt.figure(figsize = (2, 8))\n",
    "    ax = fig.add_subplot(111)\n",
    "\n",
    "    VEHICLE_X = VEHICLE_X + VEHICLE_SPEED_X\n",
    "    VEHICLE_Y = VEHICLE_Y + VEHICLE_SPEED_Y\n",
    "\n",
    "    vehicle, vehicle_coords = road_item(\"vehicle\", VEHICLE_X, VEHICLE_Y, VEHICLE_WIDTH, VEHICLE_LENGTH, 'green')\n",
    "    obstacle_left1, obstacle_left1_coords = road_item(\"obstacle_left1\", 0, 150, 50, OBSTACLE_WIDTH, 'black')\n",
    "    obstacle_right1, obstacle_right1_coords = road_item(\"obstacle_right1\", (100-20), 200, 20, OBSTACLE_WIDTH, 'black')\n",
    "    obstacle_moving1, obstacle_moving1_coords = road_item(\"obstacle_moving1\", OBSTACLE_MOVING_X, OBSTACLE_MOVING_Y, OBSTACLE_MOVING_WIDTH, OBSTACLE_MOVING_LENGTH, 'red')\n",
    "\n",
    "\n",
    "    if (vehicle_coords[\"vehicle\"][\"tly\"] > obstacle_coords_list[first_obstacle][\"bry\"]):\n",
    "        \n",
    "        del obstacle_coords_list[first_obstacle]\n",
    "\n",
    "        first_obstacle = list(obstacle_coords_list.keys())[0]\n",
    "        v_bly = obstacle_coords_list[first_obstacle][\"bly\"]\n",
    "\n",
    "        for k, v in obstacle_coords_list.items():\n",
    "            if v_bly >= v[\"bly\"]:\n",
    "                first_obstacle = k\n",
    "                v_bly = v[\"bly\"]\n",
    "        \n",
    "        obstacle_passed = True\n",
    "        \n",
    "    ax.add_patch(vehicle) \n",
    "    ax.add_patch(obstacle_left1) \n",
    "    ax.add_patch(obstacle_right1)\n",
    "    ax.add_patch(obstacle_moving1)\n",
    "\n",
    "    plt.xlim([0, 100]) \n",
    "    plt.ylim([0, 400])\n",
    "\n",
    "    plt.show()\n",
    "    plt.pause(0.1)\n",
    "    clear_output(wait=True)\n"
   ]
  },
  {
   "cell_type": "code",
   "execution_count": 271,
   "metadata": {},
   "outputs": [
    {
     "data": {
      "text/plain": [
       "{}"
      ]
     },
     "execution_count": 271,
     "metadata": {},
     "output_type": "execute_result"
    }
   ],
   "source": [
    "obstacle_coords_list"
   ]
  },
  {
   "cell_type": "code",
   "execution_count": 236,
   "metadata": {},
   "outputs": [
    {
     "data": {
      "text/plain": [
       "{'obstacle_right1': {'blx': 80,\n",
       "  'bly': 200,\n",
       "  'brx': 100,\n",
       "  'bry': 200,\n",
       "  'tlx': 80,\n",
       "  'tly': 220,\n",
       "  'trx': 100,\n",
       "  'try': 220}}"
      ]
     },
     "execution_count": 236,
     "metadata": {},
     "output_type": "execute_result"
    }
   ],
   "source": [
    "del obstacle_coords_list[first_obstacle]\n",
    "obstacle_coords_list"
   ]
  },
  {
   "cell_type": "code",
   "execution_count": 237,
   "metadata": {},
   "outputs": [
    {
     "data": {
      "text/plain": [
       "('obstacle_right1', 200)"
      ]
     },
     "execution_count": 237,
     "metadata": {},
     "output_type": "execute_result"
    }
   ],
   "source": [
    "first_obstacle = list(obstacle_coords_list.keys())[0]\n",
    "v_bly = obstacle_coords_list[first_obstacle][\"bly\"]\n",
    "\n",
    "for k, v in obstacle_coords_list.items():\n",
    "    if v_bly >= v[\"bly\"]:\n",
    "        first_obstacle = k\n",
    "        v_bly = v[\"bly\"]\n",
    "\n",
    "first_obstacle, v_bly"
   ]
  },
  {
   "cell_type": "code",
   "execution_count": 238,
   "metadata": {},
   "outputs": [
    {
     "data": {
      "text/plain": [
       "{'blx': 80,\n",
       " 'bly': 200,\n",
       " 'brx': 100,\n",
       " 'bry': 200,\n",
       " 'tlx': 80,\n",
       " 'tly': 220,\n",
       " 'trx': 100,\n",
       " 'try': 220}"
      ]
     },
     "execution_count": 238,
     "metadata": {},
     "output_type": "execute_result"
    }
   ],
   "source": [
    "obstacle_coords_list[first_obstacle]"
   ]
  },
  {
   "cell_type": "code",
   "execution_count": 239,
   "metadata": {},
   "outputs": [
    {
     "data": {
      "text/plain": [
       "False"
      ]
     },
     "execution_count": 239,
     "metadata": {},
     "output_type": "execute_result"
    }
   ],
   "source": [
    "obstacle_coords_list[first_obstacle][\"bry\"] > vehicle_coords[\"vehicle\"][\"tly\"]"
   ]
  },
  {
   "cell_type": "code",
   "execution_count": 240,
   "metadata": {},
   "outputs": [
    {
     "data": {
      "text/plain": [
       "False"
      ]
     },
     "execution_count": 240,
     "metadata": {},
     "output_type": "execute_result"
    }
   ],
   "source": [
    "dist_tosteer_right = obstacle_coords_list[first_obstacle][\"brx\"] - vehicle_coords[\"vehicle\"][\"tlx\"]\n",
    "dist_tosteer_left = vehicle_coords[\"vehicle\"][\"trx\"] - obstacle_coords_list[first_obstacle][\"blx\"]\n",
    "\n",
    "dist_tosteer_right < dist_tosteer_left"
   ]
  },
  {
   "cell_type": "code",
   "execution_count": 241,
   "metadata": {},
   "outputs": [
    {
     "data": {
      "text/plain": [
       "-5.0"
      ]
     },
     "execution_count": 241,
     "metadata": {},
     "output_type": "execute_result"
    }
   ],
   "source": [
    "dist_tosteer_left"
   ]
  },
  {
   "cell_type": "code",
   "execution_count": 244,
   "metadata": {},
   "outputs": [
    {
     "data": {
      "text/plain": [
       "0"
      ]
     },
     "execution_count": 244,
     "metadata": {},
     "output_type": "execute_result"
    }
   ],
   "source": [
    "# Vehicle has either already passed the obstacle or is in same horizontal line\n",
    "if (obstacle_coords_list[first_obstacle][\"bry\"] - vehicle_coords[\"vehicle\"][\"tly\"]) <= 0:\n",
    "    VEHICLE_SPEED_X = 0\n",
    "else:\n",
    "    VEHICLE_SPEED_X = dist_tosteer_left / ((obstacle_coords_list[first_obstacle][\"bry\"] - vehicle_coords[\"vehicle\"][\"tly\"]) / VEHICLE_SPEED_Y)\n",
    "    VEHICLE_SPEED_X = np.ceil(VEHICLE_SPEED_X) + 1\n",
    "\n",
    "VEHICLE_SPEED_X"
   ]
  },
  {
   "cell_type": "code",
   "execution_count": null,
   "metadata": {},
   "outputs": [],
   "source": []
  },
  {
   "cell_type": "code",
   "execution_count": 57,
   "metadata": {},
   "outputs": [],
   "source": []
  }
 ],
 "metadata": {
  "kernelspec": {
   "display_name": "Python 3",
   "language": "python",
   "name": "python3"
  },
  "language_info": {
   "codemirror_mode": {
    "name": "ipython",
    "version": 3
   },
   "file_extension": ".py",
   "mimetype": "text/x-python",
   "name": "python",
   "nbconvert_exporter": "python",
   "pygments_lexer": "ipython3",
   "version": "3.12.4"
  }
 },
 "nbformat": 4,
 "nbformat_minor": 2
}
