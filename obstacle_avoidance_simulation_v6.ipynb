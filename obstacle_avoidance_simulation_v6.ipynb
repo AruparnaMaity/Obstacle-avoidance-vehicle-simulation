{
 "cells": [
  {
   "cell_type": "code",
   "execution_count": null,
   "metadata": {},
   "outputs": [],
   "source": [
    "import matplotlib \n",
    "import matplotlib.pyplot as plt\n",
    "from IPython.display import clear_output\n",
    "import numpy as np"
   ]
  },
  {
   "cell_type": "code",
   "execution_count": null,
   "metadata": {},
   "outputs": [],
   "source": [
    "class ObstacleAvoidance():\n",
    "\n",
    "    def initialize_environment(self.environment_objects_filepath):\n",
    "        \n",
    "        with open(self.environment_objects_filepath, \"r\") as file:\n",
    "            arguments = [line.strip().split(\" \") for line in file if line.strip()]\n",
    "\n",
    "        arguments = [[eval(i) for i in arguments_] for arguments_ in arguments]\n",
    "\n",
    "        # Create variables dynamically for the first time\n",
    "        for args in arguments:\n",
    "            # for arg in args:\n",
    "            globals()[args[0]], globals()[args[0] + \"_coords\"] = road_item(*args)\n",
    "\n",
    "    def __init__(self):\n",
    "        \n",
    "        self.VEHICLE_X = arguments[0][1]\n",
    "        self.VEHICLE_Y = arguments[0][2]\n",
    "\n",
    "        self.VEHICLE_SPEED_X = 0\n",
    "        self.VEHICLE_SPEED_Y = 15\n",
    "\n",
    "        self.X_MIN = 0\n",
    "        self.X_MAX = 100\n",
    "        self.Y_MIN = 0\n",
    "        self.Y_MAX = 1000"
   ]
  }
 ],
 "metadata": {
  "language_info": {
   "name": "python"
  }
 },
 "nbformat": 4,
 "nbformat_minor": 2
}
