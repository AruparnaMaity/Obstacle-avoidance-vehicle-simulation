{
 "cells": [
  {
   "cell_type": "code",
   "execution_count": 1,
   "metadata": {},
   "outputs": [],
   "source": [
    "import matplotlib \n",
    "import matplotlib.pyplot as plt\n",
    "from IPython.display import clear_output\n",
    "import numpy as np"
   ]
  },
  {
   "cell_type": "markdown",
   "metadata": {},
   "source": [
    "# Defining the road items\n",
    "- Return matplotlib rectangle plot  objects\n",
    "- Also returns coordinates of the object"
   ]
  },
  {
   "cell_type": "code",
   "execution_count": 2,
   "metadata": {},
   "outputs": [],
   "source": [
    "def road_item(name, item_x, item_y, item_width, item_length, item_color = \"black\", speed_x = 0, speed_y = 0):\n",
    "    plot_obj = matplotlib.patches.Rectangle((item_x + speed_x, item_y + speed_y),\n",
    "                                            item_width,\n",
    "                                            item_length,\n",
    "                                            color = item_color)\n",
    "    item_coords = \\\n",
    "    {name : {\n",
    "            \"blx\": item_x + speed_x,\n",
    "            \"bly\": item_y + speed_y,\n",
    "            \"brx\": item_x + speed_x + item_width,\n",
    "            \"bry\": item_y + speed_y,\n",
    "            \"tlx\": item_x + speed_x,\n",
    "            \"tly\": item_y + speed_y + item_length,\n",
    "            \"trx\": item_x + speed_x + item_width,\n",
    "            \"try\": item_y + speed_y + item_length\n",
    "            }}\n",
    "    return plot_obj, item_coords\n"
   ]
  },
  {
   "cell_type": "markdown",
   "metadata": {},
   "source": [
    "# Reading and initialize the environment obstacles file\n",
    "Users can modify this file to define the vehicle initial coordinates, static obstacles, non-static obstacles, speed and direction of non-static obstacles. Guidelines:\n",
    "- \"vehicle\" 20 0 20 30 \"green\" : 1st argument is the name of the road item. In this case it is the vehicle. 2nd and 3rd arguments are the bottom left abscissa and bottom left ordinate of the road item respectively. 4th and 5th arguments are horizontal x-axis and vertical y-axis lengths of the item. Last argument is te colour of the item.\n",
    "\n",
    "- \"obstacle_right4\" 80 1000 20 20 : In this case the item is an obstacle, named as obstacle_right4. All static obstacles MUST start with \"obstacle_right\", followed by an item number or text in any format.\n",
    "\n",
    "- \"obstacle_moving2\" 0 550 30 50 \"red\" 0.2 0 : In this case the item is a non-static obstacle, named as obstacle_moving2. All static obstacles MUST start with \"obstacle_moving\", followed by an item number or text in any format. The 7th and 8th arguments, \"0.2\" and \"0\" are the horizontal x-axis and vertical y-axis speeds of the moving obstacle. Use \"-\" negative signs for the obstacle to move in negative x or y direction."
   ]
  },
  {
   "cell_type": "code",
   "execution_count": 3,
   "metadata": {},
   "outputs": [],
   "source": [
    "with open(\"environment_obstacles.txt\", \"r\") as file:\n",
    "    arguments = [line.strip().split(\" \") for line in file if line.strip()]\n",
    "\n",
    "arguments = [[eval(i) for i in arguments_] for arguments_ in arguments]\n",
    "\n",
    "# Create variables dynamically for the first time\n",
    "for args in arguments:\n",
    "    # for arg in args:\n",
    "    globals()[args[0]], globals()[args[0] + \"_coords\"] = road_item(*args)    "
   ]
  },
  {
   "cell_type": "code",
   "execution_count": 4,
   "metadata": {},
   "outputs": [],
   "source": [
    "obstacle_coords_list_ = [var for var in dir() if not var.startswith(\"_\") and var[-7:] == \"_coords\" and var[:8] == \"obstacle\"]\n",
    "obstacle_coords_list_ = [eval(name) for name in obstacle_coords_list_]\n",
    "obstacle_coords_list = {k: v for d in obstacle_coords_list_ for k, v in d.items()}\n",
    "# obstacle_coords_list"
   ]
  },
  {
   "cell_type": "code",
   "execution_count": 5,
   "metadata": {},
   "outputs": [
    {
     "data": {
      "text/plain": [
       "('obstacle_left1', 50)"
      ]
     },
     "execution_count": 5,
     "metadata": {},
     "output_type": "execute_result"
    }
   ],
   "source": [
    "# Get the first obstacle in path\n",
    "\n",
    "first_obstacle = list(obstacle_coords_list.keys())[0]\n",
    "v_bly = obstacle_coords_list[first_obstacle][\"bly\"]\n",
    "\n",
    "for k, v in obstacle_coords_list.items():\n",
    "    if v_bly >= v[\"bly\"]:\n",
    "        first_obstacle = k\n",
    "        v_bly = v[\"bly\"]\n",
    "\n",
    "first_obstacle, v_bly"
   ]
  },
  {
   "cell_type": "markdown",
   "metadata": {},
   "source": [
    "# Define the forward speed of the vehicle"
   ]
  },
  {
   "cell_type": "code",
   "execution_count": 6,
   "metadata": {},
   "outputs": [],
   "source": [
    "VEHICLE_X = arguments[0][1]\n",
    "VEHICLE_Y = arguments[0][2]\n",
    "\n",
    "VEHICLE_SPEED_X = 0 # By default the horizontal steering speed is zero\n",
    "VEHICLE_SPEED_Y = 15 # USER INPUT- Mention the forward speed of the vehicle\n",
    "\n",
    "X_MIN = 0\n",
    "X_MAX = 100\n",
    "Y_MIN = 0\n",
    "Y_MAX = 1000"
   ]
  },
  {
   "cell_type": "markdown",
   "metadata": {},
   "source": [
    "# Function to recreate the road items with the updated position of the vehicle and moving obstacles"
   ]
  },
  {
   "cell_type": "code",
   "execution_count": 7,
   "metadata": {},
   "outputs": [],
   "source": [
    "def recreate_items(VEHICLE_X, VEHICLE_Y, speed_counter):\n",
    "    # Create variables dynamically\n",
    "    for args in arguments:\n",
    "        if args[0] == \"vehicle\":\n",
    "            globals()[\"vehicle\"], globals()[\"vehicle_coords\"] = road_item(\"vehicle\", VEHICLE_X, VEHICLE_Y, args[3], args[4], args[5])\n",
    "        elif args[0][:15] == \"obstacle_moving\":\n",
    "            globals()[args[0]], globals()[args[0] + \"_coords\"] = road_item(args[0], args[1], args[2], args[3], args[4], args[5], speed_x = args[6] * speed_counter, speed_y = args[7] * speed_counter)\n",
    "        else:\n",
    "            globals()[args[0]], globals()[args[0] + \"_coords\"] = road_item(*args)\n"
   ]
  },
  {
   "cell_type": "markdown",
   "metadata": {},
   "source": [
    "# Start the simulation"
   ]
  },
  {
   "cell_type": "code",
   "execution_count": 8,
   "metadata": {},
   "outputs": [
    {
     "data": {
      "image/png": "[encoded data removed]",
      "text/plain": [
       "<Figure size 200x800 with 1 Axes>"
      ]
     },
     "metadata": {},
     "output_type": "display_data"
    }
   ],
   "source": [
    "# Move to hitting the back of next obstacle\n",
    "# while obstacle_coords_list[first_obstacle][\"bry\"] > vehicle_coords[\"vehicle\"][\"tly\"]:\n",
    "\n",
    "speed_counter = 1\n",
    "while len(obstacle_coords_list) != 0:\n",
    "\n",
    "    # Horizontal Pass check\n",
    "    if (obstacle_coords_list[first_obstacle][\"brx\"] <= vehicle_coords[\"vehicle\"][\"tlx\"]) or (obstacle_coords_list[first_obstacle][\"blx\"] >= vehicle_coords[\"vehicle\"][\"trx\"]):\n",
    "\n",
    "        # Reset horizontal movement to zero\n",
    "        VEHICLE_SPEED_X = 0\n",
    "\n",
    "        # Vertical Pass check\n",
    "        if obstacle_coords_list[first_obstacle][\"try\"] < vehicle_coords[\"vehicle\"][\"tly\"]:\n",
    "\n",
    "            # Calculate next obstacle\n",
    "            del obstacle_coords_list[first_obstacle]\n",
    "\n",
    "            if len(obstacle_coords_list) != 0:\n",
    "                first_obstacle = list(obstacle_coords_list.keys())[0]\n",
    "                v_bly = obstacle_coords_list[first_obstacle][\"bly\"]\n",
    "\n",
    "                for k, v in obstacle_coords_list.items():\n",
    "                    if v_bly >= v[\"bly\"]:\n",
    "                        first_obstacle = k\n",
    "                        v_bly = v[\"bly\"]\n",
    "            else:\n",
    "                continue\n",
    "\n",
    "    # If horizontal pass does not check and vehicle need to steer towards right or left\n",
    "    elif VEHICLE_SPEED_X == 0:\n",
    "\n",
    "        # Calculate distance to steer\n",
    "        dist_tosteer_right = obstacle_coords_list[first_obstacle][\"brx\"] - vehicle_coords[\"vehicle\"][\"tlx\"]\n",
    "        dist_tosteer_left = obstacle_coords_list[first_obstacle][\"blx\"] - vehicle_coords[\"vehicle\"][\"trx\"]\n",
    "        dist_gap_left = obstacle_coords_list[first_obstacle][\"blx\"] - X_MIN\n",
    "        dist_gap_right = X_MAX - obstacle_coords_list[first_obstacle][\"brx\"]\n",
    "\n",
    "        # Decide which direction to steer - left or right\n",
    "        if (dist_gap_left == 0) & (dist_gap_right == 0):\n",
    "            break\n",
    "        elif dist_gap_left >= dist_gap_right:\n",
    "            VEHICLE_SPEED_X = dist_tosteer_left / ((obstacle_coords_list[first_obstacle][\"bry\"] - vehicle_coords[\"vehicle\"][\"tly\"]) / VEHICLE_SPEED_Y)\n",
    "        else:\n",
    "            VEHICLE_SPEED_X = dist_tosteer_right / ((obstacle_coords_list[first_obstacle][\"bry\"] - vehicle_coords[\"vehicle\"][\"tly\"]) / VEHICLE_SPEED_Y)\n",
    "        \n",
    "        if VEHICLE_SPEED_X > 0:\n",
    "            VEHICLE_SPEED_X = np.ceil(VEHICLE_SPEED_X)\n",
    "        else:\n",
    "            VEHICLE_SPEED_X = np.floor(VEHICLE_SPEED_X)\n",
    "\n",
    "    fig = plt.figure(figsize = (2, 8))\n",
    "    ax = fig.add_subplot(111)\n",
    "\n",
    "    VEHICLE_X = VEHICLE_X + VEHICLE_SPEED_X\n",
    "    VEHICLE_Y = VEHICLE_Y + VEHICLE_SPEED_Y\n",
    "\n",
    "    recreate_items(VEHICLE_X, VEHICLE_Y, speed_counter)\n",
    "    speed_counter += 1\n",
    "\n",
    "    obstacle_moving_remaining_list = [s for s in obstacle_coords_list.keys() if \"obstacle_moving\" in s]\n",
    "    for obstacle_moving_remaining in obstacle_moving_remaining_list:\n",
    "        obstacle_coords_list.update(eval(obstacle_moving_remaining + \"_coords\"))\n",
    "\n",
    "    for args in arguments:\n",
    "        ax.add_patch(eval(args[0]))\n",
    "\n",
    "    plt.xlim([X_MIN, X_MAX]) \n",
    "    plt.ylim([Y_MIN, Y_MAX])\n",
    "\n",
    "    plt.show()\n",
    "    plt.pause(0.1)\n",
    "    clear_output(wait=True)\n"
   ]
  },
  {
   "cell_type": "code",
   "execution_count": null,
   "metadata": {},
   "outputs": [],
   "source": []
  }
 ],
 "metadata": {
  "kernelspec": {
   "display_name": "Python 3",
   "language": "python",
   "name": "python3"
  },
  "language_info": {
   "codemirror_mode": {
    "name": "ipython",
    "version": 3
   },
   "file_extension": ".py",
   "mimetype": "text/x-python",
   "name": "python",
   "nbconvert_exporter": "python",
   "pygments_lexer": "ipython3",
   "version": "3.12.4"
  }
 },
 "nbformat": 4,
 "nbformat_minor": 2
}
